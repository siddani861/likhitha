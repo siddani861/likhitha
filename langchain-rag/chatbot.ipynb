{
 "cells": [
  {
   "cell_type": "code",
   "execution_count": null,
   "metadata": {},
   "outputs": [],
   "source": [
    "%pip install -qU supabase\n",
    "%pip install -qU nltk"
   ]
  },
  {
   "cell_type": "markdown",
   "metadata": {},
   "source": [
    "### Imports\n"
   ]
  },
  {
   "cell_type": "code",
   "execution_count": null,
   "metadata": {},
   "outputs": [],
   "source": [
    "import os\n",
    "from dotenv import load_dotenv\n",
    "from langchain_community.vectorstores import SupabaseVectorStore\n",
    "\n",
    "from langchain_ollama import OllamaEmbeddings\n",
    "from supabase.client import Client, create_client\n",
    "import nltk\n",
    "\n",
    "nltk.download('punkt_tab')\n",
    "nltk.download('averaged_perceptron_tagger_eng')\n",
    "\n",
    "load_dotenv()\n",
    "\n",
    "supabase_url = os.environ.get(\"SUPABASE_URL\")\n",
    "supabase_key = os.environ.get(\"SUPABASE_SERVICE_KEY\")\n",
    "supabase: Client = create_client(supabase_url, supabase_key)\n",
    "\n",
    "# Ollama embeddings model\n",
    "embeddings = OllamaEmbeddings(\n",
    "    model=\"llama3.1\"\n",
    ")"
   ]
  },
  {
   "cell_type": "markdown",
   "metadata": {},
   "source": [
    "### Constants\n"
   ]
  },
  {
   "cell_type": "code",
   "execution_count": 3,
   "metadata": {},
   "outputs": [],
   "source": [
    "table_name = \"documents\"\n",
    "query_name = \"match_documents\""
   ]
  },
  {
   "cell_type": "markdown",
   "metadata": {},
   "source": [
    "### Read from database\n"
   ]
  },
  {
   "cell_type": "code",
   "execution_count": 4,
   "metadata": {},
   "outputs": [],
   "source": [
    "vector_store = SupabaseVectorStore(\n",
    "    embedding=embeddings,\n",
    "    client=supabase,\n",
    "    table_name=table_name,\n",
    "    query_name=query_name,\n",
    ")"
   ]
  },
  {
   "cell_type": "markdown",
   "metadata": {},
   "source": [
    "### Initialize the model\n"
   ]
  },
  {
   "cell_type": "code",
   "execution_count": 5,
   "metadata": {},
   "outputs": [],
   "source": [
    "from langchain_ollama import ChatOllama\n",
    "from langchain_core.prompts import ChatPromptTemplate\n",
    "\n",
    "# Initialize the model\n",
    "llm = ChatOllama(\n",
    "    model=\"llama3.1\",\n",
    "    temperature=0,\n",
    ")\n"
   ]
  },
  {
   "cell_type": "markdown",
   "metadata": {},
   "source": [
    "### Prompt template\n"
   ]
  },
  {
   "cell_type": "code",
   "execution_count": 6,
   "metadata": {},
   "outputs": [],
   "source": [
    "prompt = ChatPromptTemplate.from_messages(\n",
    "    [\n",
    "        (\"system\", \"You are a software developer specialized in {coding_language}.\"),\n",
    "        (\"human\", \"Create a {input_component} React component to be used in an online banking app. Use architectural best practices from {architecture_context}, design style guidelines from {design_context} and business logic inside the component from {user_story_context}. Include code comments. Ensure to use GraphQL, enclose the outermost DIV with the proper TailwindCSS classes and return code only.\"),\n",
    "    ]\n",
    ")\n"
   ]
  },
  {
   "cell_type": "markdown",
   "metadata": {},
   "source": [
    "### Invoke chain\n"
   ]
  },
  {
   "cell_type": "code",
   "execution_count": null,
   "metadata": {},
   "outputs": [],
   "source": [
    "input_component = \"Sign Up Form\"\n",
    "coding_language = \"React\"\n",
    "\n",
    "# Function to concatenate the vector store results\n",
    "def concatenate_results(results):\n",
    "    return \" \".join([result.page_content for result in results])\n",
    "\n",
    "# Architecture context\n",
    "arch_question = \"What are the architectural best practices for a \" + input_component + \" \" + coding_language + \" component?\"\n",
    "arch_docs = vector_store.similarity_search(arch_question, k=4, filter={\"source\": \"./data/archguide.html\"})\n",
    "architecture_context = concatenate_results(arch_docs) if arch_docs else None\n",
    "print(\"architecture_context: \", architecture_context)\n",
    "print(\"\\n\\n.................................................\")\n",
    "\n",
    "# Design context\n",
    "design_question = \"What are the visual design guidelines for a \" + input_component + \" \" + coding_language + \" component?\"\n",
    "design_docs = vector_store.similarity_search(design_question, k=4, filter={\"source\": \"./data/styleguide.md\"})\n",
    "design_context = concatenate_results(design_docs) if design_docs else None\n",
    "print(\"design_context: \", design_context)\n",
    "print(\"\\n\\n.................................................\")\n",
    "\n",
    "# User story context\n",
    "user_story_question = \"What are business rules for a \" + input_component + \" \" + coding_language + \" component?\"\n",
    "user_story_docs = vector_store.similarity_search(user_story_question, k=4, filter={\"source\": \"./data/userstory.md\"})\n",
    "user_story_context = concatenate_results(user_story_docs) if user_story_docs else None\n",
    "print(\"user_story_context: \", user_story_context)\n",
    "print(\"\\n\\n.................................................\")\n",
    "\n",
    "chain = prompt | llm\n",
    "ai_msg = chain.invoke(\n",
    "    {\n",
    "        \"input_component\": input_component,\n",
    "        \"coding_language\": coding_language,\n",
    "        \"architecture_context\": architecture_context,\n",
    "        \"design_context\": design_context,\n",
    "        \"user_story_context\": user_story_context,\n",
    "    }\n",
    ")\n",
    "\n",
    "print(\"-----------------------------------------------------------------------------------------------------------------\")\n",
    "print(\"\\n\\nLLM: \", ai_msg.content)\n"
   ]
  }
 ],
 "metadata": {
  "kernelspec": {
   "display_name": "myenv",
   "language": "python",
   "name": "python3"
  },
  "language_info": {
   "codemirror_mode": {
    "name": "ipython",
    "version": 3
   },
   "file_extension": ".py",
   "mimetype": "text/x-python",
   "name": "python",
   "nbconvert_exporter": "python",
   "pygments_lexer": "ipython3",
   "version": "3.12.6"
  }
 },
 "nbformat": 4,
 "nbformat_minor": 2
}
