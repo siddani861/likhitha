{
 "cells": [
  {
   "cell_type": "code",
   "execution_count": 1,
   "metadata": {},
   "outputs": [],
   "source": [
    "%%capture --no-stderr\n",
    "%pip install -qU langgraph\n",
    "%pip install -qU langchain_ollama\n",
    "%pip install -qU langchain-openai\n",
    "%pip install -qU typing_extensions\n",
    "%pip install -qU requests\n",
    "%pip install -qU panel\n",
    "%pip install -qU jupyter_bokeh\n",
    "%pip install -qU html2text"
   ]
  },
  {
   "cell_type": "code",
   "execution_count": 2,
   "metadata": {},
   "outputs": [],
   "source": [
    "# import os\n",
    "\n",
    "# os.environ[\"OPENAI_API_VERSION\"] = \"YOUR_OPENAI_API_VERSION\"\n",
    "# os.environ[\"AZURE_OPENAI_ENDPOINT\"] = \"YOUR_AZURE_OPENAI_ENDPOINT\"\n",
    "# os.environ[\"AZURE_OPENAI_API_KEY\"] = \"YOUR_AZURE_OPENAI_API_KEY\""
   ]
  },
  {
   "cell_type": "code",
   "execution_count": 3,
   "metadata": {},
   "outputs": [],
   "source": [
    "# Step x. define the state\n",
    "from typing import Annotated\n",
    "from typing_extensions import TypedDict\n",
    "from langgraph.graph.message import add_messages\n",
    "\n",
    "class State(TypedDict):\n",
    "    num_called: int\n",
    "    messages: Annotated[list, add_messages]"
   ]
  },
  {
   "cell_type": "code",
   "execution_count": 4,
   "metadata": {},
   "outputs": [],
   "source": [
    "# Step x. define the graph builder\n",
    "from langgraph.graph import StateGraph\n",
    "graph_builder = StateGraph(State)"
   ]
  },
  {
   "cell_type": "code",
   "execution_count": 5,
   "metadata": {},
   "outputs": [],
   "source": [
    "# Import Azure OpenAI\n",
    "from langchain_openai import AzureChatOpenAI\n",
    "\n",
    "llm = AzureChatOpenAI(\n",
    "    azure_deployment=\"gpt-4\",\n",
    "    api_version=\"2023-03-15-preview\",\n",
    "    temperature=0,\n",
    "    max_tokens=None,\n",
    "    timeout=None,\n",
    "    max_retries=2,\n",
    "    # organization=\"...\",\n",
    "    # model=\"gpt-35-turbo\",\n",
    "    # model_version=\"0125\",\n",
    "    # other params...\n",
    ")"
   ]
  },
  {
   "cell_type": "code",
   "execution_count": 6,
   "metadata": {},
   "outputs": [],
   "source": [
    "# TOOLS (4) ==================>\n",
    "from langchain_core.tools import tool\n",
    "import requests\n",
    "import html2text\n",
    "\n",
    "@tool\n",
    "def get_architectural_guidelines(componentName: str, location: str) -> str:\n",
    "    \"\"\"Returns architectural guidelines for a React project.\n",
    "\n",
    "    Args:\n",
    "        componentName: component name\n",
    "        location: URL of the architectural guidelines\n",
    "    \"\"\"\n",
    "    \n",
    "    print(f\"Tool call: Getting architectural guidelines for {componentName} from {location}\")\n",
    "    response = requests.get(location)\n",
    "    html_content = response.text\n",
    "    return html2text.html2text(html_content)\n",
    "\n",
    "@tool\n",
    "def get_ux_styleguide(componentName: str) -> str:\n",
    "    \"\"\"Returns the User Experience (UX) design style guide for a React project.\n",
    "\n",
    "    Args:\n",
    "        componentName: component name\n",
    "    \"\"\"\n",
    "    \n",
    "    print(f\"Tool call: Getting UX style guide for {componentName}\")\n",
    "    with open(\"data/styleguide.md\", \"r\") as file:\n",
    "        response = file.read()\n",
    "    return response\n",
    "\n",
    "@tool\n",
    "def get_business_rules(componentName: str) -> str:\n",
    "    \"\"\"Returns the Business Rules for a React project from a User Story.\n",
    "\n",
    "    Args:\n",
    "        componentName: component name\n",
    "    \"\"\"\n",
    "    \n",
    "    print(f\"Tool call: Getting Business Rules for {componentName}\")\n",
    "    with open(\"data/userstory.md\", \"r\") as file:\n",
    "        response = file.read()\n",
    "    return response\n",
    "\n",
    "tools = [get_architectural_guidelines, get_ux_styleguide, get_business_rules]\n",
    "llm_with_tools = llm.bind_tools(tools)"
   ]
  },
  {
   "cell_type": "code",
   "execution_count": 7,
   "metadata": {},
   "outputs": [],
   "source": [
    "# Step x. define the chatbot\n",
    "def coding_assistant(state: State):\n",
    "    state.update({\"num_called\": state.get(\"num_called\", 0) + 1})\n",
    "    return {\"messages\": [llm_with_tools.invoke(state[\"messages\"])], \"num_called\": state.get(\"num_called\", 1)}"
   ]
  },
  {
   "cell_type": "code",
   "execution_count": null,
   "metadata": {},
   "outputs": [],
   "source": [
    "# Step x. add the node to the graph\n",
    "graph_builder.add_node(\"coding_assistant\", coding_assistant)"
   ]
  },
  {
   "cell_type": "code",
   "execution_count": null,
   "metadata": {},
   "outputs": [],
   "source": [
    "import json\n",
    "\n",
    "class BasicToolNode:\n",
    "    \"\"\"A node that runs the tools requested in the last AIMessage.\"\"\"\n",
    "\n",
    "    def __init__(self, tools: list) -> None:\n",
    "        self.tools_by_name = {tool.name: tool for tool in tools}\n",
    "\n",
    "    def __call__(self, inputs: dict):\n",
    "        if messages := inputs.get(\"messages\", []):\n",
    "            message = messages[-1]\n",
    "        else:\n",
    "            raise ValueError(\"No message found in input\")\n",
    "        outputs = []\n",
    "        for tool_call in message.tool_calls:\n",
    "            tool_result = self.tools_by_name[tool_call[\"name\"]].invoke(\n",
    "                tool_call[\"args\"]\n",
    "            )\n",
    "            outputs.append(\n",
    "                ToolMessage(\n",
    "                    content=json.dumps(tool_result),\n",
    "                    name=tool_call[\"name\"],\n",
    "                    tool_call_id=tool_call[\"id\"],\n",
    "                )\n",
    "            )\n",
    "        return {\"messages\": outputs}\n",
    "\n",
    "tool_node = BasicToolNode(tools)\n",
    "graph_builder.add_node(\"tools\", tool_node)"
   ]
  },
  {
   "cell_type": "code",
   "execution_count": null,
   "metadata": {},
   "outputs": [],
   "source": [
    "# Step x. add the start and end nodes\n",
    "from typing import Literal\n",
    "from langgraph.graph import START, END\n",
    "\n",
    "def route_tools(\n",
    "    state: State,\n",
    ") -> Literal[\"tools\", \"__end__\"]:\n",
    "    \"\"\"\n",
    "    Use in the conditional_edge to route to the ToolNode if the last message\n",
    "    has tool calls. Otherwise, route to the end.\n",
    "    \"\"\"\n",
    "    if isinstance(state, list):\n",
    "        ai_message = state[-1]\n",
    "    elif messages := state.get(\"messages\", []):\n",
    "        ai_message = messages[-1]\n",
    "    else:\n",
    "        raise ValueError(f\"No messages found in input state to tool_edge: {state}\")\n",
    "    if hasattr(ai_message, \"tool_calls\") and len(ai_message.tool_calls) > 0:\n",
    "        return \"tools\"\n",
    "    return \"__end__\"\n",
    "\n",
    "\n",
    "# The `tools_condition` function returns \"tools\" if the chatbot asks to use a tool, and \"__end__\" if\n",
    "# it is fine directly responding. This conditional routing defines the main agent loop.\n",
    "graph_builder.add_conditional_edges(\n",
    "    \"coding_assistant\",\n",
    "    route_tools,\n",
    "    # The following dictionary lets you tell the graph to interpret the condition's outputs as a specific node\n",
    "    # It defaults to the identity function, but if you\n",
    "    # want to use a node named something else apart from \"tools\",\n",
    "    # You can update the value of the dictionary to something else\n",
    "    # e.g., \"tools\": \"my_tools\"\n",
    "    {\"tools\": \"tools\", \"__end__\": \"__end__\"},\n",
    ")\n",
    "\n",
    "graph_builder.add_edge(\"tools\", \"coding_assistant\")\n",
    "graph_builder.add_edge(START, \"coding_assistant\")"
   ]
  },
  {
   "cell_type": "code",
   "execution_count": 11,
   "metadata": {},
   "outputs": [],
   "source": [
    "# Step x. set the configuration needed for the state\n",
    "config = {\"configurable\": {\"thread_id\": \"1\"}}\n",
    "\n",
    "from langgraph.checkpoint.memory import MemorySaver\n",
    "memory = MemorySaver()"
   ]
  },
  {
   "cell_type": "code",
   "execution_count": 12,
   "metadata": {},
   "outputs": [],
   "source": [
    "# Step x. compile the graph\n",
    "graph = graph_builder.compile(checkpointer=memory)"
   ]
  },
  {
   "cell_type": "code",
   "execution_count": null,
   "metadata": {},
   "outputs": [],
   "source": [
    "# Step x. display the graph image\n",
    "from IPython.display import Image, display\n",
    "\n",
    "try:\n",
    "    display(Image(graph.get_graph().draw_mermaid_png()))\n",
    "except Exception:\n",
    "    # This requires some extra dependencies and is optional\n",
    "    pass"
   ]
  },
  {
   "cell_type": "code",
   "execution_count": 14,
   "metadata": {},
   "outputs": [],
   "source": [
    "# Step x. define the stream function\n",
    "from langchain_core.messages import HumanMessage, AIMessage, ToolMessage, SystemMessage\n",
    "\n",
    "system_prompt = \"You are an expert React developer.\"\n",
    "def stream_graph_updates(user_input: str):\n",
    "    result = graph.invoke({\"messages\": [SystemMessage(content=system_prompt), HumanMessage(content=user_input)]}, config)\n",
    "    return result.get(\"messages\", [])[-1].content"
   ]
  },
  {
   "cell_type": "code",
   "execution_count": null,
   "metadata": {},
   "outputs": [],
   "source": [
    "import panel as pn  # GUI\n",
    "pn.extension()\n",
    "panels = [] # collect display"
   ]
  },
  {
   "cell_type": "code",
   "execution_count": 16,
   "metadata": {},
   "outputs": [],
   "source": [
    "inputStyles = {\n",
    "    'color': '#666',\n",
    "    'font-size': '16px',\n",
    "    'border-radius': '5px',\n",
    "    'padding': '2px 2px',\n",
    "    'margin': '0px 10px 0px 5px',\n",
    "}\n",
    "\n",
    "prompt_input = pn.widgets.TextInput(value=\"\", placeholder='Enter text here…', width=600, styles=inputStyles)\n",
    "chat_button = pn.widgets.Button(name=\"Chat!\", styles=inputStyles)"
   ]
  },
  {
   "cell_type": "code",
   "execution_count": 17,
   "metadata": {},
   "outputs": [],
   "source": [
    "userStyles = {\n",
    "    'color': '#ffa8db',\n",
    "    'font-size': '14px',\n",
    "    'font-family': 'Inter, Arial, sans-serif',\n",
    "    'background-color': '#333', 'border': '1px solid #999',\n",
    "    'border-radius': '5px', \n",
    "    'padding': '2px 10px',\n",
    "    'width': '90%'\n",
    "}\n",
    "\n",
    "assistantStyles = {\n",
    "    'color': '#11fa00',\n",
    "    'font-size': '14px',\n",
    "    'font-family': 'Inter, Arial, sans-serif',\n",
    "    'background-color': '#333', 'border': '1px solid #999',\n",
    "    'border-radius': '10px', 'padding': '2px 10px',\n",
    "    'width': '90%'\n",
    "}\n",
    "\n",
    "import html\n",
    "def escape_html(text):\n",
    "    return html.escape(text)\n",
    "\n",
    "def collect_messages(_):\n",
    "    prompt = prompt_input.value_input\n",
    "    snapshot = graph.get_state(config)\n",
    "    num = snapshot.values.get(\"num_called\", 1)\n",
    "    assistantLabel = \"Assistant (called \" + str(num) + \" times):\"\n",
    "\n",
    "    if prompt != \"\":\n",
    "        response = stream_graph_updates(prompt)\n",
    "        panels.append(\n",
    "            pn.Row('User:', pn.pane.HTML(\"<p>\" + escape_html(prompt) + \"</p>\", width=600, styles=userStyles)))\n",
    "        panels.append(\n",
    "            pn.Row(assistantLabel, pn.pane.Markdown(response, styles=assistantStyles)))\n",
    "    prompt_input.value = \"\"\n",
    "    return pn.Column(*panels)"
   ]
  },
  {
   "cell_type": "code",
   "execution_count": null,
   "metadata": {},
   "outputs": [],
   "source": [
    "interactive_conversation = pn.bind(collect_messages, chat_button)\n",
    "dashboard = pn.Column(\n",
    "    pn.Row(prompt_input, chat_button),\n",
    "    pn.Row(interactive_conversation),\n",
    ")\n",
    "dashboard"
   ]
  }
 ],
 "metadata": {
  "kernelspec": {
   "display_name": "myenv",
   "language": "python",
   "name": "python3"
  },
  "language_info": {
   "codemirror_mode": {
    "name": "ipython",
    "version": 3
   },
   "file_extension": ".py",
   "mimetype": "text/x-python",
   "name": "python",
   "nbconvert_exporter": "python",
   "pygments_lexer": "ipython3",
   "version": "3.12.6"
  }
 },
 "nbformat": 4,
 "nbformat_minor": 2
}
