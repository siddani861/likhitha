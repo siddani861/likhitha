{
 "cells": [
  {
   "cell_type": "code",
   "execution_count": 1,
   "metadata": {},
   "outputs": [],
   "source": [
    "%%capture --no-stderr\n",
    "%pip install -qU langgraph\n",
    "%pip install -qU langchain_ollama\n",
    "%pip install -qU typing_extensions\n",
    "%pip install -qU requests\n",
    "%pip install -qU panel\n",
    "%pip install -qU jupyter_bokeh\n",
    "%pip install -qU html2text"
   ]
  },
  {
   "cell_type": "code",
   "execution_count": 16,
   "metadata": {},
   "outputs": [],
   "source": [
    "# Step x. define the state\n",
    "from typing import Annotated\n",
    "from typing_extensions import TypedDict\n",
    "from langgraph.graph.message import add_messages\n",
    "\n",
    "class State(TypedDict):\n",
    "    messages: Annotated[list, add_messages]"
   ]
  },
  {
   "cell_type": "code",
   "execution_count": 17,
   "metadata": {},
   "outputs": [],
   "source": [
    "# Step x. define the graph builder\n",
    "from langgraph.graph import StateGraph\n",
    "graph_builder = StateGraph(State)"
   ]
  },
  {
   "cell_type": "code",
   "execution_count": 18,
   "metadata": {},
   "outputs": [],
   "source": [
    "# Step x. define the model\n",
    "from langchain_ollama import ChatOllama\n",
    "llm = ChatOllama(\n",
    "    model=\"llama3.2:1b\",\n",
    "    temperature=0,\n",
    ")"
   ]
  },
  {
   "cell_type": "code",
   "execution_count": 19,
   "metadata": {},
   "outputs": [],
   "source": [
    "# Step x. define the chatbot\n",
    "def coding_assistant(state: State):\n",
    "    return {\"messages\": [llm.invoke(state[\"messages\"])]}"
   ]
  },
  {
   "cell_type": "code",
   "execution_count": null,
   "metadata": {},
   "outputs": [],
   "source": [
    "# Step x. add the node to the graph\n",
    "graph_builder.add_node(\"coding_assistant\", coding_assistant)"
   ]
  },
  {
   "cell_type": "code",
   "execution_count": null,
   "metadata": {},
   "outputs": [],
   "source": [
    "# Step x. add the start and end nodes\n",
    "from langgraph.graph import START, END\n",
    "graph_builder.add_edge(START, \"coding_assistant\")\n",
    "graph_builder.add_edge(\"coding_assistant\", END)"
   ]
  },
  {
   "cell_type": "code",
   "execution_count": 22,
   "metadata": {},
   "outputs": [],
   "source": [
    "# Step x. compile the graph\n",
    "graph = graph_builder.compile()"
   ]
  },
  {
   "cell_type": "code",
   "execution_count": null,
   "metadata": {},
   "outputs": [],
   "source": [
    "# Step x. display the graph image\n",
    "from IPython.display import Image, display\n",
    "\n",
    "try:\n",
    "    display(Image(graph.get_graph().draw_mermaid_png()))\n",
    "except Exception:\n",
    "    # This requires some extra dependencies and is optional\n",
    "    pass"
   ]
  },
  {
   "cell_type": "code",
   "execution_count": 24,
   "metadata": {},
   "outputs": [],
   "source": [
    "# Step x. define the stream function\n",
    "from langchain_core.messages import HumanMessage\n",
    "def stream_graph_updates(user_input: str):\n",
    "    result = graph.invoke({\"messages\": [HumanMessage(content=user_input)]})\n",
    "    return result.get(\"messages\", [])[-1].content"
   ]
  },
  {
   "cell_type": "code",
   "execution_count": null,
   "metadata": {},
   "outputs": [],
   "source": [
    "import panel as pn  # GUI\n",
    "pn.extension()\n",
    "panels = [] # collect display"
   ]
  },
  {
   "cell_type": "code",
   "execution_count": 26,
   "metadata": {},
   "outputs": [],
   "source": [
    "inputStyles = {\n",
    "    'color': '#666',\n",
    "    'font-size': '16px',\n",
    "    'border-radius': '5px',\n",
    "    'padding': '2px 2px',\n",
    "    'margin': '0px 10px 0px 5px',\n",
    "}\n",
    "\n",
    "prompt_input = pn.widgets.TextInput(value=\"\", placeholder='Enter text here…', width=600, styles=inputStyles)\n",
    "chat_button = pn.widgets.Button(name=\"Chat!\", styles=inputStyles)"
   ]
  },
  {
   "cell_type": "code",
   "execution_count": 27,
   "metadata": {},
   "outputs": [],
   "source": [
    "userStyles = {\n",
    "    'color': '#ffa8db',\n",
    "    'font-size': '14px',\n",
    "    'font-family': 'Inter, Arial, sans-serif',\n",
    "    'background-color': '#333', 'border': '1px solid #999',\n",
    "    'border-radius': '5px', \n",
    "    'padding': '2px 10px',\n",
    "    'width': '90%'\n",
    "}\n",
    "\n",
    "assistantStyles = {\n",
    "    'color': '#11fa00',\n",
    "    'font-size': '14px',\n",
    "    'font-family': 'Inter, Arial, sans-serif',\n",
    "    'background-color': '#333', 'border': '1px solid #999',\n",
    "    'border-radius': '10px', 'padding': '2px 10px',\n",
    "    'width': '90%'\n",
    "}\n",
    "\n",
    "import html\n",
    "def escape_html(text):\n",
    "    return html.escape(text)\n",
    "\n",
    "def collect_messages(_):\n",
    "    prompt = prompt_input.value_input\n",
    "    if prompt != \"\":\n",
    "        response = stream_graph_updates(prompt)\n",
    "        panels.append(\n",
    "            pn.Row('User:', pn.pane.HTML(\"<p>\" + escape_html(prompt) + \"</p>\", width=600, styles=userStyles)))\n",
    "        panels.append(\n",
    "            pn.Row('Assistant:', pn.pane.Markdown(response, styles=assistantStyles)))\n",
    "        prompt_input.value_input = \"\"\n",
    "    return pn.Column(*panels)"
   ]
  },
  {
   "cell_type": "code",
   "execution_count": null,
   "metadata": {},
   "outputs": [],
   "source": [
    "interactive_conversation = pn.bind(collect_messages, chat_button)\n",
    "dashboard = pn.Column(\n",
    "    pn.Row(prompt_input, chat_button),\n",
    "    pn.Row(interactive_conversation),\n",
    ")\n",
    "dashboard"
   ]
  }
 ],
 "metadata": {
  "kernelspec": {
   "display_name": "myenv",
   "language": "python",
   "name": "python3"
  },
  "language_info": {
   "codemirror_mode": {
    "name": "ipython",
    "version": 3
   },
   "file_extension": ".py",
   "mimetype": "text/x-python",
   "name": "python",
   "nbconvert_exporter": "python",
   "pygments_lexer": "ipython3",
   "version": "3.12.6"
  }
 },
 "nbformat": 4,
 "nbformat_minor": 2
}
